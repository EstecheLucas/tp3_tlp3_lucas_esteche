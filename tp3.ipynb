{
 "cells": [
  {
   "cell_type": "markdown",
   "id": "498731c6",
   "metadata": {},
   "source": [
    "# Trabajo Practico n3 - Trabajando con Lists y Sets.\n",
    "## Criterios de evaluación.\n",
    "\n",
    "* Se deben utilizar nombres de variables descriptivos y claros (Utilizar la nomeclatura correspondiente para los nombres de variables).\n",
    "* Comentarios claros y concisos que expliquen el propósito de cada sección del código.\n",
    "* Utilizar mensajes de commit **descriptivos**. (Puedes utilizar la extension CONVENTIONAL COMMIT de VS-CODE). \n",
    "* Entrega en tiempo y forma.\n",
    "* Todo el código desarrollado debe ser subido a un repositorio en GitHub (el nombre del repositorio de seguir la siguiente estructura: tp3_tlp3_nombre_apellido).\n",
    "* Para resolver las actividades se debe insertar casillas de codigo entre cada actividad del cuaderno de Jupyter\n",
    "* El repositorio de GitHub debe incluir un archivo README.md con las instrucciones necesarias para la correcta ejecución del código.\n",
    "\n",
    "### ¡Importante!\n",
    "**El incumplimiento de los criterios de evaluación restará puntos en la nota final del práctico!**"
   ]
  },
  {
   "cell_type": "markdown",
   "id": "b361a7b6",
   "metadata": {},
   "source": [
    "### Actividad 1: \n",
    "Suma de todos los elementos de una lista, utilizando bucles repetitivos (for, while)."
   ]
  },
  {
   "cell_type": "code",
   "execution_count": 1,
   "id": "26009294",
   "metadata": {},
   "outputs": [
    {
     "name": "stdout",
     "output_type": "stream",
     "text": [
      "La suma total usando for es: 204\n"
     ]
    }
   ],
   "source": [
    "\n",
    "# todo:\n",
    "\n",
    "numbers = [14, 23, 34, 48, 85]\n",
    "\n",
    "# Lista de números a sumar\n",
    "lista_numeros = [14, 23, 34, 48, 85]\n",
    "\n",
    "# Inicializamos una variable para guardar la suma total\n",
    "suma_total = 0\n",
    "\n",
    "# Recorremos la lista y sumamos cada elemento\n",
    "for numero in lista_numeros:\n",
    "    suma_total += numero\n",
    "\n",
    "# Mostramos el resultado final\n",
    "print(f\"La suma total usando for es: {suma_total}\")\n",
    "\n"
   ]
  },
  {
   "cell_type": "markdown",
   "id": "0c239195",
   "metadata": {},
   "source": [
    "### Actividad 2: \n",
    "Encontrar el número más grande en una lista, utilizando bucles repetitivos (for, while)."
   ]
  },
  {
   "cell_type": "code",
   "execution_count": null,
   "id": "3611d25a",
   "metadata": {},
   "outputs": [
    {
     "name": "stdout",
     "output_type": "stream",
     "text": [
      "El número más grande usando es: 92\n"
     ]
    }
   ],
   "source": [
    "\n",
    "# todo:\n",
    "\n",
    "from random import randint # para generar números aleatorios\n",
    "random_numbers =[randint(1, 100) for i in range(5)] # generamos 5 números aleatorios\n",
    "\n",
    "# Inicializamos la variable con el primer número de la lista\n",
    "numero_mayor = random_numbers[0]\n",
    "\n",
    "# Recorremos la lista para encontrar el número más grande\n",
    "for numero in random_numbers:\n",
    "    if numero > numero_mayor:\n",
    "        numero_mayor = numero\n",
    "\n",
    "# Mostramos el resultado\n",
    "print(f\"El número más grande usando es: {numero_mayor}\")\n"
   ]
  },
  {
   "cell_type": "markdown",
   "id": "70a24b97",
   "metadata": {},
   "source": [
    "### Actividad 3:\n",
    "Contar cuántas veces aparece un número específico. Utiliza estructuras repetitivas para la resolucion de este ejercicio. "
   ]
  },
  {
   "cell_type": "code",
   "execution_count": 17,
   "id": "a9c8ebc7",
   "metadata": {},
   "outputs": [
    {
     "name": "stdout",
     "output_type": "stream",
     "text": [
      "[131, 94, 65, 177, 35, 188, 113, 168, 48, 197, 113, 36, 35, 121, 190, 21, 76, 116, 160, 51]\n",
      "Los números que se repiten en la lista son: [35, 113]\n"
     ]
    }
   ],
   "source": [
    "\n",
    "# todo:\n",
    "\n",
    "from random import randint\n",
    "\n",
    "\n",
    "lista_numeros = [randint(1, 200) for i in range(20)]\n",
    "\n",
    "print(f\"{lista_numeros}\")  # Mostramos la lista completa\n",
    "\n",
    "# Creamos una lista para guardar los números que se repiten\n",
    "numeros_repetidos = []\n",
    "\n",
    "# Recorremos cada número de la lista\n",
    "for numero in lista_numeros:\n",
    "    # Si el número aparece más de una vez y no está en la lista de repetidos\n",
    "    if lista_numeros.count(numero) > 1 and numero not in numeros_repetidos:\n",
    "        numeros_repetidos.append(numero)\n",
    "\n",
    "# Mostramos los resultados\n",
    "if numeros_repetidos:\n",
    "    print(f\"Los números que se repiten en la lista son: {numeros_repetidos}\")\n",
    "else:\n",
    "    print(\"Ningún número se repite en la lista.\")\n",
    "\n",
    "\n"
   ]
  },
  {
   "cell_type": "markdown",
   "id": "b8dac397",
   "metadata": {},
   "source": [
    "### Actividad 4: \n",
    "Invertir una lista sin usar reverse() ni [::-1]"
   ]
  },
  {
   "cell_type": "code",
   "execution_count": 9,
   "id": "d04fd492",
   "metadata": {},
   "outputs": [
    {
     "name": "stdout",
     "output_type": "stream",
     "text": [
      "Lista normal: [19, 18, 14, 42, 16, 16, 8, 24]\n",
      "Lista invertida: [24, 8, 16, 16, 42, 14, 18, 19]\n"
     ]
    }
   ],
   "source": [
    "\n",
    "# todo:\n",
    "\n",
    "from random import randint\n",
    "\n",
    "# Generamos una lista aleatoria de 8 números entre 1 y 50\n",
    "lists_two = [randint(1, 50) for i in range(8)]\n",
    "print(f\"Lista normal: {lists_two}\")\n",
    "\n",
    "# Creamos una nueva lista vacía donde vamos a guardar los elementos en orden inverso\n",
    "lists_two_invertida = []\n",
    "\n",
    "# Recorremos la lista original desde el último hasta el primero\n",
    "for i in range(len(lists_two) - 1, -1, -1):\n",
    "    lists_two_invertida.append(lists_two[i])\n",
    "\n",
    "# Mostramos la lista invertida\n",
    "print(f\"Lista invertida: {lists_two_invertida}\")\n"
   ]
  },
  {
   "cell_type": "markdown",
   "id": "8889d0f2",
   "metadata": {},
   "source": [
    "### Actividad 5:\n",
    "Sumar los elementos de dos listas posición por posición, utilizando solo bucles repetititivos (for,while)."
   ]
  },
  {
   "cell_type": "code",
   "execution_count": 10,
   "id": "bc0ec844",
   "metadata": {},
   "outputs": [
    {
     "name": "stdout",
     "output_type": "stream",
     "text": [
      "Suma posición por posición: [3, 7, 11, 16, 18]\n"
     ]
    }
   ],
   "source": [
    "\n",
    "# todo:\n",
    "\n",
    "\n",
    "lists_one = [2, 4, 6, 7, 8]\n",
    "lists_two = [1, 3, 5, 9, 10]\n",
    "\n",
    "# Lista vacía donde se guardarán los resultados de las sumas\n",
    "suma_posicional = []\n",
    "\n",
    "# Recorremos las listas por índice y sumamos los elementos de la misma posición\n",
    "for i in range(len(lists_one)):\n",
    "    suma = lists_one[i] + lists_two[i] # Se suma el elemento de la primera lista con el de la segunda \n",
    "    suma_posicional.append(suma) # guardamos la suma en esta lista\n",
    "\n",
    "# Mostramos la lista con los resultados de las sumas posición por posición\n",
    "print(f\"Suma posición por posición: {suma_posicional}\")\n"
   ]
  },
  {
   "cell_type": "markdown",
   "id": "8ce33e6b",
   "metadata": {},
   "source": [
    "### Actividad 6:\n",
    "\n",
    "Escribir un programa que almacene el abecedario en una lista, elimine de la lista las letras que ocupen posiciones múltiplos de 3, y muestre por pantalla la lista resultante."
   ]
  },
  {
   "cell_type": "code",
   "execution_count": 19,
   "id": "b07326e2",
   "metadata": {},
   "outputs": [
    {
     "name": "stdout",
     "output_type": "stream",
     "text": [
      "Letras que no están en posiciones múltiplos de 3 son: ['a', 'b', 'd', 'e', 'g', 'h', 'j', 'k', 'm', 'n', 'p', 'q', 's', 't', 'v', 'w', 'y', 'z']\n"
     ]
    }
   ],
   "source": [
    "\n",
    "# todo:\n",
    "\n",
    "# Creamos una lista que contiene todas las letras del abecedario en minúsculas\n",
    "abecedario = list(\"abcdefghijklmnopqrstuvwxyz\")\n",
    "\n",
    "# Creamos una lista vacía para guardar las letras que NO estén en posiciones múltiplos de 3\n",
    "resultado = []\n",
    "\n",
    "# Recorremos la lista con un bucle for usando índices\n",
    "for i in range(len(abecedario)):\n",
    "    # Si la posición (índice + 1) NO es múltiplo de 3, agregamos la letra al resultado\n",
    "    if (i + 1) % 3 != 0:\n",
    "        resultado.append(abecedario[i])\n",
    "\n",
    "# Mostramos por pantalla la lista resultante\n",
    "print(f\"Letras que no están en posiciones múltiplos de 3 son: {resultado}\")\n"
   ]
  },
  {
   "cell_type": "markdown",
   "id": "5bfeb4b5",
   "metadata": {},
   "source": [
    "### Actividad 7:\n",
    "\n",
    "Escribir un programa que pida al usuario una palabra y muestre por pantalla si es un palíndromo (una palabra que se escribe de la misma forma al derecho y al reves)."
   ]
  },
  {
   "cell_type": "code",
   "execution_count": 23,
   "id": "2365afcc",
   "metadata": {},
   "outputs": [
    {
     "name": "stdout",
     "output_type": "stream",
     "text": [
      "La palabra es un palíndromo.\n"
     ]
    }
   ],
   "source": [
    "\n",
    "# todo:\n",
    "# Pedimos al usuario que ingrese una palabra\n",
    "palabra = input(\"Ingresá una palabra: \")\n",
    "\n",
    "# Convertimos la palabra a minúsculas para que la comparación no dependa de mayúsculas o minúsculas\n",
    "palabra = palabra.lower()\n",
    "\n",
    "# Invertimos la palabra usando un slice\n",
    "palabra_invertida = palabra[::-1]\n",
    "\n",
    "# Comparamos si la palabra original es igual a su versión invertida\n",
    "if palabra == palabra_invertida:\n",
    "    print(\"La palabra es un palíndromo.\")  # Si son iguales, es palíndromo\n",
    "else:\n",
    "    print(\"La palabra no es un palíndromo.\")  # Si no son iguales, no lo es\n"
   ]
  },
  {
   "cell_type": "markdown",
   "id": "ed8b51be",
   "metadata": {},
   "source": [
    "### Actividad 8:\n",
    "\n",
    "Teniendo en cuenta el conjunto 1 y el conjunto 2, sin usar el operador de intersección &, calcular la intersección de dichos conjuntos."
   ]
  },
  {
   "cell_type": "code",
   "execution_count": null,
   "id": "21a434b9",
   "metadata": {},
   "outputs": [
    {
     "name": "stdout",
     "output_type": "stream",
     "text": [
      "La intersección de los conjuntos es: {3, 4}\n"
     ]
    }
   ],
   "source": [
    "\n",
    "# todo:\n",
    "\n",
    "conjunto1 = {1, 2, 3, 4}\n",
    "conjunto2 = {3, 4, 5, 6}\n",
    "\n",
    "# Creamos un conjunto vacío para guardar los elementos en común (la intersección). \n",
    "interseccion = set() \n",
    "\n",
    "# Recorremos cada elemento del primer conjunto\n",
    "for elemento in conjunto1:\n",
    "    # Si el elemento también está en el segundo conjunto\n",
    "    if elemento in conjunto2:\n",
    "        # Lo agregamos al conjunto de intersección\n",
    "        interseccion.add(elemento)\n",
    "\n",
    "# Mostramos el resultado\n",
    "print(f\"La intersección de los conjuntos es: {interseccion}\")\n"
   ]
  },
  {
   "cell_type": "markdown",
   "id": "31b460dc",
   "metadata": {},
   "source": [
    "### Actividad 9:\n",
    "Eliminar duplicados de una lista usando un set."
   ]
  },
  {
   "cell_type": "code",
   "execution_count": 25,
   "id": "0ef62008",
   "metadata": {},
   "outputs": [
    {
     "name": "stdout",
     "output_type": "stream",
     "text": [
      "Lista sin duplicados: [1, 2, 3, 4, 5]\n"
     ]
    }
   ],
   "source": [
    "\n",
    "# todo:\n",
    "lista = [1, 2, 2, 3, 4, 4, 5]\n",
    "\n",
    "\n",
    "\n",
    "# Convertimos la lista a un conjunto (set) para eliminar los duplicados automáticamente\n",
    "lista_sin_duplicados = list(set(lista))\n",
    "\n",
    "# Mostramos la nueva lista sin duplicados\n",
    "print(f\"Lista sin duplicados: {lista_sin_duplicados}\")\n",
    "\n"
   ]
  },
  {
   "cell_type": "markdown",
   "id": "075f1f2c",
   "metadata": {},
   "source": [
    "### Actividad 10:\n",
    "\n",
    "Escribir un programa que cree 2 matrices y realice su multiplicacion."
   ]
  },
  {
   "cell_type": "code",
   "execution_count": null,
   "id": "f32f3a88",
   "metadata": {},
   "outputs": [],
   "source": []
  }
 ],
 "metadata": {
  "kernelspec": {
   "display_name": "Python 3",
   "language": "python",
   "name": "python3"
  },
  "language_info": {
   "codemirror_mode": {
    "name": "ipython",
    "version": 3
   },
   "file_extension": ".py",
   "mimetype": "text/x-python",
   "name": "python",
   "nbconvert_exporter": "python",
   "pygments_lexer": "ipython3",
   "version": "3.12.9"
  }
 },
 "nbformat": 4,
 "nbformat_minor": 5
}
